{
 "cells": [
  {
   "cell_type": "markdown",
   "id": "d30dbacb-dba9-47f7-a6dd-d79dc50c14a0",
   "metadata": {},
   "source": [
    "# <span style=\"color:blue\">MLOps Bootcamp Final Projesi</span>"
   ]
  },
  {
   "cell_type": "markdown",
   "id": "4b8aba43-5423-434f-b7a0-a12b9ded83da",
   "metadata": {},
   "source": [
    "## Amaç"
   ]
  },
  {
   "cell_type": "markdown",
   "id": "c25888ae-933a-4707-8c04-18eb2c14fc84",
   "metadata": {},
   "source": [
    "Proje kapsamında gerçek zamanlı elektrik tüketim verileri kullanılarak anlık veya dönemsel tahminlerde bulunulmuştur.  "
   ]
  },
  {
   "cell_type": "markdown",
   "id": "f75ad2d2-95df-4034-9f60-53d7fe10baa7",
   "metadata": {},
   "source": [
    "## Kapsam"
   ]
  },
  {
   "cell_type": "markdown",
   "id": "584f6eec-b8a2-4271-8f99-9a1e298095f6",
   "metadata": {},
   "source": [
    "Proje kapsamında Enerji Piyasaları A.Ş.' nin Şeffaflık Platformu' nda yer alan 2017-2021 yıllarına ait gerçekleşen gerçek zamanlı tüketim verileri kullanılmıştır. "
   ]
  },
  {
   "cell_type": "markdown",
   "id": "c652051e-d5a1-4709-91d3-002751821808",
   "metadata": {},
   "source": [
    "## Yöntem"
   ]
  },
  {
   "cell_type": "markdown",
   "id": "5fe77c2f-3d3c-4547-96f9-fea670f07b31",
   "metadata": {},
   "source": [
    "Proje kapsamında öncelikle verilere ilişkin değişken mühendisliği gerçekleştirildikten sonra lag/shifted features eklenerek denetimli öğrenme metotlarından LightGBM ile bir makine öğrenmesi modeli geliştirilmiştir. Geliştirilen model sayesinde kullanıcı parametreleri doğrltusunda saatlik, günlük veya dönemlik tahminler elde edilmiş, FastAPI vasıtasıyla AWS EC2 Instance üzerinden uvicorn ile canlı ortama aktarılmıştır. Kullanıcıların arayüz ile etkileşimi HTTP protokolü ile sağlanmıştır. "
   ]
  },
  {
   "cell_type": "markdown",
   "id": "16b39864-57f2-4e13-9659-bdaa0d08df62",
   "metadata": {},
   "source": [
    "## Araç ve Gereçler"
   ]
  },
  {
   "cell_type": "markdown",
   "id": "1784ce2c-b4b9-4111-b070-3671599bb914",
   "metadata": {},
   "source": [
    "<p>Programlama Dili ve Kütüphaneler</p>\n",
    "<li>Python</li>\n",
    "<li>Pandas</li>\n",
    "<li>Numpy</li>\n",
    "<li>datetime</li>\n",
    "<li>joblib</li>\n",
    "<li>MLFlow</li>\n",
    "<li>Boto3</li>\n",
    "<li>Scikit Learn</li>\n",
    "<li>Matplotlib</li><br>\n",
    "<p>Geliştirme Ortamı</p>\n",
    "<li>PyCharm</li>\n",
    "<li>Jupyterlab</li><br>\n",
    "<p>Denetimli Öğrenme Modeli</p>\n",
    "<li>LightGBM</li><br>\n",
    "<p>Imaj Depolama Aracı</p>\n",
    "<li>AWS S3</li><br>\n",
    "<p>Versiyon Kontrol Sistemi ve Uzak Repo Depolama Aracı</p>\n",
    "<li>Gitea, Git ve Github</li><br>\n",
    "<p>Sanal Sunucu Hizmetleri</p>\n",
    "<li>AWS EC2</li><br>\n",
    "<p>Uygulama Programlama Arayüzü</p>\n",
    "<li>FastAPI</li><br>\n",
    "<p>Web Sunucu Uygulaması</p>\n",
    "<li>Uvicorn</li><br>\n",
    "<p>Veri Doğrulama</p>\n",
    "<li>Pydantic</li>"
   ]
  },
  {
   "cell_type": "markdown",
   "id": "21013e14-aca4-45b9-ab77-279984927351",
   "metadata": {},
   "source": [
    "# Proje Kronolojisi"
   ]
  },
  {
   "cell_type": "markdown",
   "id": "c87058ee-f6dc-4435-acb5-d729319a4b7a",
   "metadata": {},
   "source": [
    "<p><span style=\"color:blue\"><strong>İmaj Depolama</strong></span></p>\n",
    "<li>AWS S3 İçin Kullanıcı ve Bucket Oluşturulması</li>\n",
    "<li>save_to_s3.ipynb</li><br>"
   ]
  },
  {
   "cell_type": "markdown",
   "id": "24154e33-67be-4574-9903-cd8cebf13296",
   "metadata": {},
   "source": [
    "___\n",
    "<img src=\"images/AWS-S3.png\" width=\"75%\"><br>\n",
    "___\n",
    "<img src=\"images/save_to_s3.png\" width=\"75%\"><br>\n",
    "___"
   ]
  },
  {
   "cell_type": "markdown",
   "id": "a2ed6965-ce7b-4486-82fa-c43e26545ce9",
   "metadata": {},
   "source": [
    "<p><span style=\"color:blue\"><strong>Makine Öğrenmesi</strong></span></p>\n",
    "<li>Veri Setinin Okunması: load_from_s3</li>\n",
    "<li>Keşifçi Veri Analizi</li>\n",
    "<li>Özellik Mühendisliği: helpers.py</li>\n",
    "<li>Hiperparametre Optimizasyonu: model.py</li>\n",
    "<li>Model Kurulması: model.py</li>\n",
    "<li>Model Nesnesinin Oluşturulması: LightGBM_Model.pkl</li>\n",
    "<li>Feature Importance</li><br>"
   ]
  },
  {
   "cell_type": "markdown",
   "id": "6538a77b-925f-4827-86ae-f8212f62d865",
   "metadata": {},
   "source": [
    "___\n",
    "<strong><span style=\"color:red\">load_from_s3</span></strong><br>\n",
    "<img src=\"images/load_from_s3.png\" width=\"75%\"><br>\n",
    "___\n",
    "<strong><span style=\"color:red\">EDA</span></strong><br>\n",
    "<img src=\"images/EDA.png\" width=\"25%\"><br>\n",
    "___\n",
    "<strong><span style=\"color:red\">helpers.py</span></strong><br>\n",
    "<img src=\"images/helpers.png\" width=\"75%\"><br>\n",
    "___\n",
    "<strong><span style=\"color:red\">models.py</span></strong><br>\n",
    "<img src=\"images/models.png\" width=\"75%\"><br>\n",
    "___\n",
    "<strong><span style=\"color:red\">LightGBM_Model.pkl.py</span></strong><br>\n",
    "___\n",
    "<strong><span style=\"color:red\">Feature Importance</span></strong><br>\n",
    "<img src=\"images/myplot.png\" width=\"50%\"><br>\n",
    "___"
   ]
  },
  {
   "cell_type": "markdown",
   "id": "0a7070bc-e82c-4674-926d-4c7cd306ce76",
   "metadata": {},
   "source": [
    "<p><span style=\"color:blue\"><strong>Web Uygulama Programlama Arayüzü</strong></span></p>\n",
    "<li>Veri Doğrulama Dosyasının Oluşturulması: schemas.py</li>\n",
    "<li>FastAPI Ana Modülünün Oluşturulması: main.py</li>\n",
    "<li>Tahminleme İçin Pipeline Oluşturulması: prediction_preparation.py</li><br>"
   ]
  },
  {
   "cell_type": "markdown",
   "id": "9eba1908-53c5-4219-af19-109de6c1036e",
   "metadata": {},
   "source": [
    "___\n",
    "<strong><span style=\"color:red\">schemas.py</span></strong><br>\n",
    "<img src=\"images/schemas.png\" width=\"75%\"><br>\n",
    "___\n",
    "<strong><span style=\"color:red\">main.py</span></strong><br>\n",
    "<img src=\"images/main.png\" width=\"75%\"><br>\n",
    "___\n",
    "<strong><span style=\"color:red\">prediction_preparation.py</span></strong><br>\n",
    "<img src=\"images/prediction_preparation.png\" width=\"75%\"><br>\n",
    "___"
   ]
  },
  {
   "cell_type": "markdown",
   "id": "3b813272-8e20-4d00-9523-c5714fdc60ab",
   "metadata": {},
   "source": [
    "<p><span style=\"color:blue\"><strong>Sanal Ortam</strong></span></p>\n",
    "<li>Gereksinimler Dosyasının Oluşturulması</li>\n",
    "\n",
    "```\n",
    "fastapi[all]\n",
    "uvicorn[standard]\n",
    "pandas\n",
    "numpy\n",
    "datetime\n",
    "lightgbm\n",
    "jupyterlab\n",
    "matplotlib\n",
    "seaborn\n",
    "sklearn\n",
    "mlflow\n",
    "boto3\n",
    "timedelta\n",
    "```"
   ]
  },
  {
   "cell_type": "markdown",
   "id": "81847012-96c8-4359-a74d-a04ec920a7a2",
   "metadata": {},
   "source": [
    "<p><span style=\"color:blue\"><strong>Versiyon Kontrol Sistemi ve Uzak Repo Deposu</strong></span></p>\n",
    "<li>Tüm Dosyaların Uzak Repo Deposuna Gönderilmesi</li><br>"
   ]
  },
  {
   "cell_type": "markdown",
   "id": "381ba59e-4284-48e3-8ab9-ea17653dcafb",
   "metadata": {},
   "source": [
    "<p><span style=\"color:blue\"><strong>Sanal Makine</strong></span></p>\n",
    "<li>AWS EC2 Instance Oluşturulması</li>\n",
    "<li>Sanal Ortamın Oluşturulması</li>"
   ]
  },
  {
   "cell_type": "markdown",
   "id": "ef945f61-d312-4767-8745-d35d59abe50d",
   "metadata": {},
   "source": [
    "```\n",
    "sudo yum -y update\n",
    "sudo yum -y install git\n",
    "python3 -m pip install virtualenv\n",
    "python3 -m virtualenv fastapi\n",
    "source fastapi/bin/activate\n",
    "git clone https://github.com/tuncayyaylali/mlops_bootcamp_final_project.git\n",
    "cd mlops_bootcamp_final_project/mlops_bootcamp_final_project\n",
    "python3 -m pip install -r requirements.txt\n",
    "uvicorn main:app --host 0.0.0.0 --port 8000 --reload\n",
    "```"
   ]
  },
  {
   "cell_type": "markdown",
   "id": "a8aab5b0-e702-42af-9ebd-9de741c5d062",
   "metadata": {},
   "source": [
    "<p><span style=\"color:blue\"><strong>Modelin Canlı Ortamda Test Edilmesi</strong></span></p>\n",
    "\n",
    "```\n",
    "https://[public ip address]:8000/docs\n",
    "```"
   ]
  },
  {
   "cell_type": "markdown",
   "id": "5c319186-ded8-4749-beb5-89d92b1e7001",
   "metadata": {},
   "source": [
    "<p><span style=\"color:blue\"><strong>Notlar</strong></span></p>\n",
    "\n",
    "```\n",
    "source fastapi/bin/activate\n",
    "cd mlops_bootcamp_final_project.git/mlops_bootcamp_final_project.git\n",
    "uvicorn main:app --host 0.0.0.0 --port 8000 --reload\n",
    "```"
   ]
  }
 ],
 "metadata": {
  "kernelspec": {
   "display_name": "fastapi",
   "language": "python",
   "name": "fastapi"
  },
  "language_info": {
   "codemirror_mode": {
    "name": "ipython",
    "version": 3
   },
   "file_extension": ".py",
   "mimetype": "text/x-python",
   "name": "python",
   "nbconvert_exporter": "python",
   "pygments_lexer": "ipython3",
   "version": "3.8.13"
  }
 },
 "nbformat": 4,
 "nbformat_minor": 5
}
