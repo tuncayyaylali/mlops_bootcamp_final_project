{
 "cells": [
  {
   "cell_type": "code",
   "execution_count": null,
   "id": "4807a694-0118-442d-80d9-f343af5dc301",
   "metadata": {},
   "outputs": [],
   "source": [
    "# Importing Libraries\n",
    "import warnings\n",
    "import pandas as pd\n",
    "import os\n",
    "import numpy as np\n",
    "import mlflow\n",
    "import lightgbm as lgb\n",
    "import io, logging\n",
    "import datetime\n",
    "import boto3\n",
    "from urllib.parse import urlparse\n",
    "from sklearn.model_selection import GridSearchCV\n",
    "from sklearn.metrics import mean_squared_error, mean_absolute_error, r2_score\n",
    "from matplotlib import pyplot as plt\n",
    "from lightgbm import LGBMRegressor\n",
    "from dotenv import load_dotenv\n",
    "from datetime import timedelta\n",
    "from mlflow.tracking import MlflowClient\n",
    "import helpers\n",
    "import eda\n",
    "import feature_importance\n",
    "\n",
    "# Settings\n",
    "load_dotenv(dotenv_path=\".env\")\n",
    "warnings.filterwarnings('ignore')"
   ]
  },
  {
   "cell_type": "code",
   "execution_count": null,
   "id": "99170fc4-5c84-4fc2-9541-955f29e0d69a",
   "metadata": {},
   "outputs": [],
   "source": [
    "# S3 Connection\n",
    "s3_res = boto3.resource('s3', aws_access_key_id=os.getenv(\"aws_access_key_id\"), aws_secret_access_key=os.getenv(\"aws_secret_access_key\"))\n",
    "client = boto3.client('s3', aws_access_key_id=os.getenv(\"aws_access_key_id\"), aws_secret_access_key=os.getenv(\"aws_secret_access_key\"))\n",
    "\n",
    "# Dataset Load Function From S3\n",
    "def load_df_from_s3(bucket, key, s3_client, index_col=None, usecols=None, sep=\",\"):\n",
    "    try:\n",
    "        logging.info(f\"Loading {bucket, key}\")\n",
    "        obj = s3_client.get_object(Bucket=bucket, Key=key)\n",
    "        return pd.read_csv(obj['Body'], header=0, \\\n",
    "                           quotechar='\"', \\\n",
    "                           delimiter=\",\", \\\n",
    "                           parse_dates=[['Tarih', 'Saat']], \\\n",
    "                           thousands=\".\", \\\n",
    "                           decimal=\",\")\n",
    "    except Exception as e:\n",
    "        raise logging.exception(e)\n",
    "\n",
    "# Loading Dataset From S3\n",
    "df = load_df_from_s3(bucket=\"vbo-mlops-bootcamp-ty\", key=\"datasets/electricity-consumption.csv\", s3_client=client)"
   ]
  },
  {
   "cell_type": "code",
   "execution_count": null,
   "id": "0f308634-bc88-405a-a420-37f15cddcdda",
   "metadata": {},
   "outputs": [],
   "source": [
    "# EDA\n",
    "eda.check_df(df, \"Tarih_Saat\", \"Tüketim Miktarı (MWh)\")"
   ]
  },
  {
   "cell_type": "code",
   "execution_count": null,
   "id": "4f42062c-d137-4017-8e0a-764f83038077",
   "metadata": {},
   "outputs": [],
   "source": [
    "# Feature Engineering\n",
    "df = helpers.main(df)"
   ]
  },
  {
   "cell_type": "code",
   "execution_count": null,
   "id": "a1cabfc1-51c4-4178-a432-581a4bf7f5cb",
   "metadata": {},
   "outputs": [],
   "source": [
    "# Hold-Out\n",
    "train = df.loc[(df[\"Tarih_Saat\"] < \"2021-01-01 00:00:00\"), :]\n",
    "test = df.loc[(df[\"Tarih_Saat\"] > \"2020-12-31 23:00:00\"), :]\n",
    "cols = [col for col in df.columns if col not in [\"Tarih_Saat\", \"Tüketim Miktarı (MWh)\", \"year\"]]\n",
    "\n",
    "X_train = train[cols]\n",
    "y_train = train[\"Tüketim Miktarı (MWh)\"]\n",
    "\n",
    "X_test = test[cols]\n",
    "y_test = test[\"Tüketim Miktarı (MWh)\"]"
   ]
  },
  {
   "cell_type": "code",
   "execution_count": null,
   "id": "0b62951a-281b-448c-a723-672ccac3cdfa",
   "metadata": {},
   "outputs": [],
   "source": [
    "# LightGBM Model\n",
    "lgbtrain = lgb.Dataset(data=X_train, label=y_train, feature_name=cols)\n",
    "lgbtest = lgb.Dataset(data=X_test, label=y_test, reference=lgbtrain, feature_name=cols)"
   ]
  },
  {
   "cell_type": "code",
   "execution_count": null,
   "id": "6f1b9cbb-8f36-4cab-bef9-073a5b270970",
   "metadata": {},
   "outputs": [],
   "source": [
    "# Hyperparamaters for LightGBM Model\n",
    "lgb_params = {'num_leaves': 10,\n",
    "              'learning_rate': 0.02,\n",
    "              'feature_fraction': 0.8,\n",
    "              'max_depth': 5,\n",
    "              'verbose': 0,\n",
    "              'num_boost_round': 1000,\n",
    "              'early_stopping_rounds': 500,\n",
    "              'nthread': -1}"
   ]
  },
  {
   "cell_type": "code",
   "execution_count": null,
   "id": "c47a5975-aaf4-4287-a564-bb94c2017978",
   "metadata": {},
   "outputs": [],
   "source": [
    "# Cost Function for LightGBM Model\n",
    "def smape(preds, target):\n",
    "    n = len(preds)\n",
    "    masked_arr = ~((preds == 0) & (target == 0))\n",
    "    preds, target = preds[masked_arr], target[masked_arr]\n",
    "    num = np.abs(preds - target)\n",
    "    denom = np.abs(preds) + np.abs(target)\n",
    "    smape_val = (200 * np.sum(num / denom)) / n\n",
    "    return smape_val\n",
    "\n",
    "\n",
    "def lgbm_smape(preds, train_data):\n",
    "    labels = train_data.get_label()\n",
    "    smape_val = smape(np.expm1(preds), np.expm1(labels))\n",
    "    return 'SMAPE', smape_val, False"
   ]
  },
  {
   "cell_type": "code",
   "execution_count": null,
   "id": "ac9a1015-da64-4d39-9b53-883db23e3d65",
   "metadata": {},
   "outputs": [],
   "source": [
    "# Fitting and Performance Metrics of LightGBM Model \n",
    "model = lgb.train(lgb_params, lgbtrain,\n",
    "                  valid_sets=[lgbtrain, lgbtest],\n",
    "                  num_boost_round=lgb_params['num_boost_round'],\n",
    "                  early_stopping_rounds=lgb_params['early_stopping_rounds'],\n",
    "                  feval=lgbm_smape,\n",
    "                  verbose_eval=100)"
   ]
  },
  {
   "cell_type": "code",
   "execution_count": null,
   "id": "fba36124-ec23-4b97-80ce-ced16fdecdb6",
   "metadata": {},
   "outputs": [],
   "source": [
    "# Performance Metrics after Hyperparameter Optimization\n",
    "y_pred_val = model.predict(X_test, num_iteration=model.best_iteration)\n",
    "smape(np.expm1(y_pred_val), np.expm1(y_test))"
   ]
  },
  {
   "cell_type": "code",
   "execution_count": null,
   "id": "e3d4917e-3cff-4fb1-b959-dbeaa3c44063",
   "metadata": {},
   "outputs": [],
   "source": [
    "# Hyperparameters for Final LightGBM Model\n",
    "lgb_params = {'num_leaves': 10,\n",
    "              'learning_rate': 0.02,\n",
    "              'feature_fraction': 0.8,\n",
    "              'max_depth': 5,\n",
    "              'verbose': 0,\n",
    "              'nthread': -1,\n",
    "              \"num_boost_round\": model.best_iteration}"
   ]
  },
  {
   "cell_type": "code",
   "execution_count": null,
   "id": "fa8c79e3-e76c-4c6f-a3d1-48b539e82a76",
   "metadata": {},
   "outputs": [],
   "source": [
    "# Dataset for Final LightGBM Model\n",
    "X_all = pd.concat([X_train, X_test], axis=0)\n",
    "y_all = pd.concat([y_train, y_test], axis=0)\n",
    "lgbtrain_all = lgb.Dataset(data=X_all, label=y_all, feature_name=cols)"
   ]
  },
  {
   "cell_type": "code",
   "execution_count": null,
   "id": "de8108ca-8b83-45a2-b673-bd472b56e108",
   "metadata": {},
   "outputs": [],
   "source": [
    "# Fitting and Performance Metrics of Final LightGBM Model\n",
    "final_model = lgb.train(lgb_params, lgbtrain_all, num_boost_round=model.best_iteration)\n",
    "final_pred_val = final_model.predict(X_all, num_iteration=model.best_iteration)\n",
    "smape(np.expm1(final_pred_val), np.expm1(y_all))"
   ]
  },
  {
   "cell_type": "code",
   "execution_count": null,
   "id": "3775bd2a-f4ad-4c53-a83a-a3c6d54fd6fa",
   "metadata": {},
   "outputs": [],
   "source": [
    "# Saving Model Object\n",
    "import joblib\n",
    "joblib.dump(final_model, \"saved_models/LightGBM_Model.pkl\")"
   ]
  },
  {
   "cell_type": "code",
   "execution_count": null,
   "id": "16c8e3a8-015b-4181-ac2d-62b6049d9f7f",
   "metadata": {},
   "outputs": [],
   "source": [
    "# Feature Importance\n",
    "feature_importance.plot_lgb_importances(final_model, plot=True, num=25)"
   ]
  }
 ],
 "metadata": {
  "kernelspec": {
   "display_name": "fastapi",
   "language": "python",
   "name": "fastapi"
  },
  "language_info": {
   "codemirror_mode": {
    "name": "ipython",
    "version": 3
   },
   "file_extension": ".py",
   "mimetype": "text/x-python",
   "name": "python",
   "nbconvert_exporter": "python",
   "pygments_lexer": "ipython3",
   "version": "3.8.13"
  }
 },
 "nbformat": 4,
 "nbformat_minor": 5
}
