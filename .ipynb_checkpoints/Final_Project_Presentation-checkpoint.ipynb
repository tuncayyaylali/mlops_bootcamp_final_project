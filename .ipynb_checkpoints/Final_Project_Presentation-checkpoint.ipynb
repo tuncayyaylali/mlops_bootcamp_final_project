{
 "cells": [
  {
   "cell_type": "markdown",
   "id": "d30dbacb-dba9-47f7-a6dd-d79dc50c14a0",
   "metadata": {},
   "source": [
    "# MLOps Bootcamp Final Projesi"
   ]
  },
  {
   "cell_type": "markdown",
   "id": "4b8aba43-5423-434f-b7a0-a12b9ded83da",
   "metadata": {},
   "source": [
    "## Amaç"
   ]
  },
  {
   "cell_type": "markdown",
   "id": "c25888ae-933a-4707-8c04-18eb2c14fc84",
   "metadata": {},
   "source": [
    "Proje kapsamında gerçek zamanlı elektrik tüketim verileri kullanılarak anlık veya dönemsel tahminlerde bulunulmuştur.  "
   ]
  },
  {
   "cell_type": "markdown",
   "id": "f75ad2d2-95df-4034-9f60-53d7fe10baa7",
   "metadata": {},
   "source": [
    "## Kapsam"
   ]
  },
  {
   "cell_type": "markdown",
   "id": "584f6eec-b8a2-4271-8f99-9a1e298095f6",
   "metadata": {},
   "source": [
    "Proje kapsamında Enerji Piyasaları A.Ş.' nin Şeffaflık Platformu' nda yer alan 2017-2021 yıllarına ait gerçekleşen gerçek zamanlı tüketim verileri kullanılmıştır. "
   ]
  },
  {
   "cell_type": "markdown",
   "id": "c652051e-d5a1-4709-91d3-002751821808",
   "metadata": {},
   "source": [
    "## Yöntem"
   ]
  },
  {
   "cell_type": "markdown",
   "id": "5fe77c2f-3d3c-4547-96f9-fea670f07b31",
   "metadata": {},
   "source": [
    "Proje kapsamında öncelikle verilere ilişkin değişken mühendisliği gerçekleştirildikten sonra lag/shifted features eklenerek denetimli öğrenme metotlarından LightGBM ile bir makine öğrenmesi modeli geliştirilmiştir. Geliştirilen model sayesinde kullanıcı parametreleri doğrltusunda saatlik, günlük veya dönemlik tahminler elde edilmiş, FastAPI vasıtasıyla AWS EC2 Instance üzerinde canlı ortama aktarılmıştır. Kullanıcıların arayüz ile etkileşimi HTTP protokolü ile sağlanmıştır. "
   ]
  },
  {
   "cell_type": "markdown",
   "id": "16b39864-57f2-4e13-9659-bdaa0d08df62",
   "metadata": {},
   "source": [
    "## Araç ve Gereçler"
   ]
  },
  {
   "cell_type": "markdown",
   "id": "1784ce2c-b4b9-4111-b070-3671599bb914",
   "metadata": {},
   "source": [
    "<p>Programlama Dili ve Kütüphaneler</p>\n",
    "<li>Python</li>\n",
    "<li>Pandas</li>\n",
    "<li>Numpy</li>\n",
    "<li>datetime</li>\n",
    "<li>joblib</li>\n",
    "<li>MLFlow</li>\n",
    "<li>Boto3</li>\n",
    "<li>Scikit Learn</li>\n",
    "<li>Matplotlib</li><br>\n",
    "<p>Geliştirme Ortamı</p>\n",
    "<li>PyCharm</li>\n",
    "<li>Jupyterlab</li><br>\n",
    "<p>Denetimli Öğrenme Modeli</p>\n",
    "<li>LightGBM</li><br>\n",
    "<p>Imaj Depolama Aracı</p>\n",
    "<li>AWS S3</li><br>\n",
    "<p>Versiyon Kontrol Sistemi ve Uzak Repo Depolama Aracı</p>\n",
    "<li>Gitea, Git ve Github</li><br>\n",
    "<p>Sanal Sunucu Hizmetleri</p>\n",
    "<li>AWS EC2</li><br>\n",
    "<p>Uygulama Programlama Arayüzü</p>\n",
    "<li>FastAPI</li><br>\n",
    "<p>Web Sunucu Uygulaması</p>\n",
    "<li>Uvicorn</li><br>\n",
    "<p>Veri Doğrulama</p>\n",
    "<li>Pydantic</li>"
   ]
  },
  {
   "cell_type": "markdown",
   "id": "21013e14-aca4-45b9-ab77-279984927351",
   "metadata": {},
   "source": [
    "# Proje Bileşenleri"
   ]
  },
  {
   "cell_type": "markdown",
   "id": "c87058ee-f6dc-4435-acb5-d729319a4b7a",
   "metadata": {},
   "source": [
    "<p><strong>İmaj Depolama</strong></p>\n",
    "<li>AWS S3 İçin Kullanıcı ve Bucket Oluşturulması</li>\n",
    "<li>save_to_s3.ipynb</li><br>"
   ]
  },
  {
   "cell_type": "markdown",
   "id": "24154e33-67be-4574-9903-cd8cebf13296",
   "metadata": {},
   "source": [
    "___\n",
    "<img src=\"images/AWS-S3.png\" width=\"75%\"><br>\n",
    "___\n",
    "<img src=\"images/save_to_s3.png\" width=\"75%\"><br>\n",
    "___"
   ]
  },
  {
   "cell_type": "markdown",
   "id": "a2ed6965-ce7b-4486-82fa-c43e26545ce9",
   "metadata": {},
   "source": [
    "<p><strong>Makine Öğrenmesi</strong></p>\n",
    "<li>Veri Setinin Okunması: load_from_s3</li>\n",
    "<li>Özellik Mühendisliği: helpers.py</li>\n",
    "<li>Hiperparametre Optimizasyonu: model.py</li>\n",
    "<li>Model Kurulması: model.py</li>\n",
    "<li>Model Nesnesinin Oluşturulması: LightGBM_Model.pkl</li><br>"
   ]
  },
  {
   "cell_type": "markdown",
   "id": "6538a77b-925f-4827-86ae-f8212f62d865",
   "metadata": {},
   "source": [
    "___\n",
    "<img src=\"images/load_from_s3.png\" width=\"75%\"><br>\n",
    "___\n",
    "<img src=\"images/helpers.png\" width=\"75%\"><br>\n",
    "___\n",
    "___\n",
    "___"
   ]
  },
  {
   "cell_type": "markdown",
   "id": "0a7070bc-e82c-4674-926d-4c7cd306ce76",
   "metadata": {},
   "source": [
    "<p>Web Uygulama Programlama Arayüzü</p>\n",
    "<li>Veri Doğrulama Dosyasının Oluşturulması: schemas.py</li>\n",
    "<li>FastAPI Ana Modülünün Oluşturulması: main.py</li>\n",
    "<li>Tahminleme İçin Pipeline Oluşturulması: prediction_preparation.py</li><br>\n",
    "<p>Sanal Ortam</p>\n",
    "<li>Gereksinimler Dosyasının Oluşturulması</li><br>\n",
    "<p>Versiyon Kontrol Sistemi ve Uzak Repo Deposu</p>\n",
    "<li>Tüm Dosyaların Uzak Repo Deposuna Gönderilmesi</li><br>\n",
    "<p>Sanal Makine</p>\n",
    "<li>AWS EC2 Instance Oluşturulması</li>\n",
    "<li>Sanal Ortamın Oluşturulması</li>\n",
    "<li>Uzak Repodaki Dosyaların Klonlanması</li>\n",
    "<li>Gerekli Kurulumların Yapılması</li>\n",
    "<li>Uvicorn' un Çalıştırılması</li>\n",
    "<li>Modelin Canlı Ortamda Test Edilmesi</li>\n",
    "<li>Data Drift Testi</li>"
   ]
  },
  {
   "cell_type": "markdown",
   "id": "9b8ec001-ba8d-4a38-b4ad-3feb4a08f642",
   "metadata": {},
   "source": [
    "Not:\n",
    "```\n",
    "source fastapi/bin/activate\n",
    "cd mlops_bootcamp_final_project.git/mlops_bootcamp_final_project.git\n",
    "uvicorn main:app --host 0.0.0.0 --port 8000 --reload\n",
    "```"
   ]
  },
  {
   "cell_type": "code",
   "execution_count": null,
   "id": "37347b06-127a-4329-8c25-da3c3644ec41",
   "metadata": {},
   "outputs": [],
   "source": []
  }
 ],
 "metadata": {
  "kernelspec": {
   "display_name": "fastapi",
   "language": "python",
   "name": "fastapi"
  },
  "language_info": {
   "codemirror_mode": {
    "name": "ipython",
    "version": 3
   },
   "file_extension": ".py",
   "mimetype": "text/x-python",
   "name": "python",
   "nbconvert_exporter": "python",
   "pygments_lexer": "ipython3",
   "version": "3.8.13"
  }
 },
 "nbformat": 4,
 "nbformat_minor": 5
}
