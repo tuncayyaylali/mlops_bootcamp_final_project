{
 "cells": [
  {
   "cell_type": "markdown",
   "id": "4673d9e4-4d1f-4fbe-9ec8-038950a7f34f",
   "metadata": {
    "jupyter": {
     "outputs_hidden": false
    },
    "pycharm": {
     "name": "#%%\n"
    }
   },
   "source": [
    "# Kütüphanelerin Yüklenmesi"
   ]
  },
  {
   "cell_type": "code",
   "execution_count": 5,
   "id": "131cb59e-1845-4ee5-8f91-ed02d7d9dedb",
   "metadata": {
    "pycharm": {
     "name": "#%%\n"
    }
   },
   "outputs": [],
   "source": [
    "import boto3\n",
    "import pandas as pd\n",
    "import io, logging\n",
    "import os"
   ]
  },
  {
   "cell_type": "markdown",
   "id": "136266f2-e29d-4a6e-a568-9ad76d9179b6",
   "metadata": {
    "jupyter": {
     "outputs_hidden": false
    },
    "pycharm": {
     "name": "#%%\n"
    }
   },
   "source": [
    "# Veri Setinin Okunması"
   ]
  },
  {
   "cell_type": "code",
   "execution_count": 6,
   "id": "b36f3c54-cf42-484e-bd36-c31d3ff99856",
   "metadata": {
    "pycharm": {
     "name": "#%%\n"
    }
   },
   "outputs": [],
   "source": [
    "df = pd.read_csv(\"datasets/GercekZamanliTuketim-01012017-31122021.csv\", encoding=\"windows-1254\")"
   ]
  },
  {
   "cell_type": "code",
   "execution_count": 7,
   "id": "3e9848b3-9a5f-470f-aa06-4a82ef04485f",
   "metadata": {},
   "outputs": [
    {
     "data": {
      "text/html": [
       "<div>\n",
       "<style scoped>\n",
       "    .dataframe tbody tr th:only-of-type {\n",
       "        vertical-align: middle;\n",
       "    }\n",
       "\n",
       "    .dataframe tbody tr th {\n",
       "        vertical-align: top;\n",
       "    }\n",
       "\n",
       "    .dataframe thead th {\n",
       "        text-align: right;\n",
       "    }\n",
       "</style>\n",
       "<table border=\"1\" class=\"dataframe\">\n",
       "  <thead>\n",
       "    <tr style=\"text-align: right;\">\n",
       "      <th></th>\n",
       "      <th>Tarih</th>\n",
       "      <th>Saat</th>\n",
       "      <th>Tüketim Miktarı (MWh)</th>\n",
       "    </tr>\n",
       "  </thead>\n",
       "  <tbody>\n",
       "    <tr>\n",
       "      <th>0</th>\n",
       "      <td>01.01.2017</td>\n",
       "      <td>00:00</td>\n",
       "      <td>27.223,06</td>\n",
       "    </tr>\n",
       "    <tr>\n",
       "      <th>1</th>\n",
       "      <td>01.01.2017</td>\n",
       "      <td>01:00</td>\n",
       "      <td>25.825,90</td>\n",
       "    </tr>\n",
       "    <tr>\n",
       "      <th>2</th>\n",
       "      <td>01.01.2017</td>\n",
       "      <td>02:00</td>\n",
       "      <td>24.252,68</td>\n",
       "    </tr>\n",
       "    <tr>\n",
       "      <th>3</th>\n",
       "      <td>01.01.2017</td>\n",
       "      <td>03:00</td>\n",
       "      <td>22.915,47</td>\n",
       "    </tr>\n",
       "    <tr>\n",
       "      <th>4</th>\n",
       "      <td>01.01.2017</td>\n",
       "      <td>04:00</td>\n",
       "      <td>22.356,99</td>\n",
       "    </tr>\n",
       "  </tbody>\n",
       "</table>\n",
       "</div>"
      ],
      "text/plain": [
       "        Tarih   Saat Tüketim Miktarı (MWh)\n",
       "0  01.01.2017  00:00             27.223,06\n",
       "1  01.01.2017  01:00             25.825,90\n",
       "2  01.01.2017  02:00             24.252,68\n",
       "3  01.01.2017  03:00             22.915,47\n",
       "4  01.01.2017  04:00             22.356,99"
      ]
     },
     "execution_count": 7,
     "metadata": {},
     "output_type": "execute_result"
    }
   ],
   "source": [
    "df.head()"
   ]
  },
  {
   "cell_type": "markdown",
   "id": "1ad75b1a-26e6-4c3a-ac6b-98d5fb291a45",
   "metadata": {
    "pycharm": {
     "name": "#%% md\n"
    }
   },
   "source": [
    "# AWS S3"
   ]
  },
  {
   "cell_type": "markdown",
   "id": "3e6ab8df-50e1-47fc-afca-f69b799c40b7",
   "metadata": {
    "jupyter": {
     "outputs_hidden": false
    },
    "pycharm": {
     "name": "#%%\n"
    }
   },
   "source": [
    "## AWS S3 Bağlantı Bilgileri"
   ]
  },
  {
   "cell_type": "code",
   "execution_count": 8,
   "id": "f1465d00-3552-4331-a079-b4047c736d55",
   "metadata": {
    "pycharm": {
     "name": "#%%\n"
    }
   },
   "outputs": [],
   "source": [
    "s3_res = boto3.resource('s3', aws_access_key_id=os.getenv(\"aws_access_key_id\"), aws_secret_access_key=os.getenv(\"aws_secret_access_key\"))\n",
    "client = boto3.client('s3', aws_access_key_id=os.getenv(\"aws_access_key_id\"), aws_secret_access_key=os.getenv(\"aws_secret_access_key\"))"
   ]
  },
  {
   "cell_type": "markdown",
   "id": "9f0bda25-bcfa-4540-84bb-c7b2b29ff7c8",
   "metadata": {
    "jupyter": {
     "outputs_hidden": false
    },
    "pycharm": {
     "name": "#%%\n"
    }
   },
   "source": [
    "## AWS S3 Bucket' a Dosya Kaydetme Fonksiyonu"
   ]
  },
  {
   "cell_type": "code",
   "execution_count": 9,
   "id": "1ba90db3-aff7-442b-a24c-bc0245751c31",
   "metadata": {
    "pycharm": {
     "name": "#%%\n"
    }
   },
   "outputs": [],
   "source": [
    "def save_df_to_s3(df, bucket, key):\n",
    "    try:\n",
    "        csv_buffer = io.StringIO()\n",
    "        df.to_csv(csv_buffer, index=False)\n",
    "        s3_res.Object(bucket, key).put(Body=csv_buffer.getvalue())\n",
    "        logging.info(f'{key} saved to s3 bucket {bucket}')\n",
    "    except Exception as e:\n",
    "        raise logging.exception(e)"
   ]
  },
  {
   "cell_type": "markdown",
   "id": "4715c8fa-d5f3-4add-9649-3317919fd58d",
   "metadata": {
    "jupyter": {
     "outputs_hidden": false
    },
    "pycharm": {
     "name": "#%%\n"
    }
   },
   "source": [
    "## AWS S3 Bucket' a Veri Setinin Yazılması"
   ]
  },
  {
   "cell_type": "code",
   "execution_count": 10,
   "id": "da5dd94e-79e6-452c-b8ca-998e6608e949",
   "metadata": {
    "pycharm": {
     "name": "#%%\n"
    }
   },
   "outputs": [],
   "source": [
    "save_df_to_s3(df, \"vbo-mlops-bootcamp-ty\", \"datasets/electricity-consumption.csv\")"
   ]
  }
 ],
 "metadata": {
  "kernelspec": {
   "display_name": "fastapi",
   "language": "python",
   "name": "fastapi"
  },
  "language_info": {
   "codemirror_mode": {
    "name": "ipython",
    "version": 3
   },
   "file_extension": ".py",
   "mimetype": "text/x-python",
   "name": "python",
   "nbconvert_exporter": "python",
   "pygments_lexer": "ipython3",
   "version": "3.10.4"
  }
 },
 "nbformat": 4,
 "nbformat_minor": 5
}
